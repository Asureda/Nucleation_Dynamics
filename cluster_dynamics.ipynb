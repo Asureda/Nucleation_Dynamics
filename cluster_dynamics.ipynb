{
 "cells": [
  {
   "cell_type": "code",
   "execution_count": 1,
   "metadata": {},
   "outputs": [],
   "source": [
    "from cluster_physics import *\n",
    "import cluster\n",
    "from cluster_sim import ClusterSimulation\n",
    "import matplotlib.pyplot as plt"
   ]
  },
  {
   "cell_type": "code",
   "execution_count": 2,
   "metadata": {},
   "outputs": [],
   "source": [
    "# Ejemplo de uso de la clase\n",
    "params = {\n",
    "    'temperature': 668,\n",
    "    'activation_energy': 52920.2,\n",
    "    'jump_distance': 1.17e-10,\n",
    "    'molar_mass': 7.95,\n",
    "    'mass_density': 8.2,\n",
    "    'melting_point': 965.15,\n",
    "    'heat_fusion': 22.5939 * 1e3,\n",
    "    'supersaturation_ratio': 2.5,\n",
    "    'sigma': 1.34, \n",
    "    'method': 'saturation'\n",
    "}\n",
    "\n",
    "cluster_physics = ClusterPhysics(params)"
   ]
  },
  {
   "cell_type": "code",
   "execution_count": 3,
   "metadata": {},
   "outputs": [
    {
     "data": {
      "text/html": [
       "23.04237422754489 dimensionless"
      ],
      "text/latex": [
       "$23.04237422754489\\ dimensionless$"
      ],
      "text/plain": [
       "23.04237422754489 <Unit('dimensionless')>"
      ]
     },
     "execution_count": 3,
     "metadata": {},
     "output_type": "execute_result"
    }
   ],
   "source": [
    "cluster_physics.critical_number_of_molecules()"
   ]
  },
  {
   "cell_type": "code",
   "execution_count": 4,
   "metadata": {},
   "outputs": [],
   "source": [
    "MAX_NUMBER_MOLECULES = int(2.5*cluster_physics.critical_number_of_molecules().magnitude)\n",
    "number_clusters_start = int(0.5*cluster_physics.critical_number_of_molecules().magnitude)\n",
    "dt = 1e-8/cluster_physics.unbiased_jump_rate().magnitude\n",
    "dt = dt*1e4\n",
    "time_steps = int(1e5)\n",
    "T=750"
   ]
  },
  {
   "cell_type": "code",
   "execution_count": 5,
   "metadata": {},
   "outputs": [],
   "source": [
    "#time_step_array = [int(1e5), int(2e5), int(3e5), int(4e5), int(5e5)]\n",
    "time_step_array = [int(1e3), int(1e5)]\n",
    "\n",
    "x_array = []\n",
    "y_array = []\n",
    "for ts in time_step_array:\n",
    "    sim = ClusterSimulation(params,ts,dt, number_clusters_start, MAX_NUMBER_MOLECULES)\n",
    "    sim.simulate()\n",
    "    x = sim.number_molecules_as_array()\n",
    "    y = sim.number_clusters_as_array()\n",
    "    x_array.append(x)\n",
    "    y_array.append(y)"
   ]
  },
  {
   "cell_type": "code",
   "execution_count": null,
   "metadata": {},
   "outputs": [],
   "source": []
  }
 ],
 "metadata": {
  "kernelspec": {
   "display_name": "neutronics",
   "language": "python",
   "name": "python3"
  },
  "language_info": {
   "codemirror_mode": {
    "name": "ipython",
    "version": 3
   },
   "file_extension": ".py",
   "mimetype": "text/x-python",
   "name": "python",
   "nbconvert_exporter": "python",
   "pygments_lexer": "ipython3",
   "version": "3.11.3"
  }
 },
 "nbformat": 4,
 "nbformat_minor": 2
}
