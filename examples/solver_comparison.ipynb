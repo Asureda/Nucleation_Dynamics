{
 "cells": [
  {
   "cell_type": "code",
   "execution_count": 1,
   "metadata": {},
   "outputs": [],
   "source": [
    "import matplotlib.pyplot as plt\n",
    "import numpy as np\n",
    "import pandas as pd\n",
    "import Nucleation_Dynamics as nd\n",
    "from extensisq import BS5, SSV2stab, Pr9, CK5, CFMR7osc, Pr7\n",
    "import scienceplots\n",
    "\n",
    "plt.style.use(['science', 'ieee'])"
   ]
  },
  {
   "cell_type": "code",
   "execution_count": 2,
   "metadata": {},
   "outputs": [
    {
     "name": "stdout",
     "output_type": "stream",
     "text": [
      "Critical radius: 8.184545454545456e-10 meter\n",
      "Critical Gibbs free energy: 4.2089037887339014e-19 joule\n",
      "Critical number of atoms: 23.04237422754489 dimensionless\n"
     ]
    }
   ],
   "source": [
    "# Ejemplo de uso de la clase\n",
    "params = {\n",
    "    'temperature': 750,\n",
    "    'activation_energy': 59920.2,\n",
    "    'diffusivity_factor': 2e-9,\n",
    "    'jump_distance': 4.6e-10,\n",
    "    'molar_mass': 150.05,\n",
    "    'mass_density': 2.5,\n",
    "    'melting_point': 1300,\n",
    "    'heat_fusion': 52 * 1e3,\n",
    "    'supersaturation_ratio': 20.5,\n",
    "    'sigma': 0.15, \n",
    "    'method': 'melting'\n",
    "}\n",
    "\n",
    "cluster_physics = nd.ClusterPhysics(params)\n",
    "\n",
    "print(f\"Critical radius: {cluster_physics.critical_radius}\")\n",
    "print(f\"Critical Gibbs free energy: {cluster_physics.critical_energy_barrier}\")\n",
    "print(f\"Critical number of atoms: {cluster_physics.critical_number_of_molecules}\")"
   ]
  },
  {
   "cell_type": "code",
   "execution_count": 3,
   "metadata": {},
   "outputs": [],
   "source": [
    "MAX_NUMBER_MOLECULES = int(1e3)\n",
    "number_clusters_start = 2\n",
    "dt = 1e-8/cluster_physics.unbiased_jump_rate.magnitude\n",
    "dt = dt*1e6"
   ]
  },
  {
   "cell_type": "code",
   "execution_count": 4,
   "metadata": {},
   "outputs": [],
   "source": [
    "sim = nd.ScipyClusterDynamics(params,int(1e4),dt, number_clusters_start, MAX_NUMBER_MOLECULES)\n",
    "sim.simulate(method=\"BDF\", t_eval=None, rtol=1e-9, atol=1e-9)\n",
    "\n",
    "y = sim.cluster_array[:,-1]\n"
   ]
  },
  {
   "cell_type": "code",
   "execution_count": 5,
   "metadata": {},
   "outputs": [
    {
     "name": "stdout",
     "output_type": "stream",
     "text": [
      "Method Error    Tol   Steps   f-evals Average f-sigma  CPU  s-max\n",
      "BDF    6.6474e+01 1e-04   9999 (0)     629     0.1        0  5.3     0\n",
      "BDF    7.8125e-03 1e-07   9999 (0)    1896     0.2        0 21.2     0\n",
      "RK45   4.8000e+01 1e-04   9999 (0)  530342    53.0        0 14.4     0\n",
      "RK45   4.8000e+01 1e-07   9999 (0)  540566    54.1        0 15.4     0\n",
      "Radau  1.8282e+02 1e-04   9999 (0)    1442     0.1        0 13.1     0\n",
      "Radau  8.1493e-03 1e-07   9999 (0)    7074     0.7        0 18.3     0\n"
     ]
    },
    {
     "name": "stderr",
     "output_type": "stream",
     "text": [
      "/home/alexandre_sureda/miniconda3/envs/neutronics/lib/python3.11/site-packages/extensisq/common.py:431: UserWarning: Your problem has a complex pair of dominant roots near the imaginary axis.  There are many recently failed steps.  You should probably change to a code intended for oscillatory problems.\n",
      "  warn('Your problem has a complex pair of dominant '\n",
      "/home/alexandre_sureda/miniconda3/envs/neutronics/lib/python3.11/site-packages/extensisq/common.py:456: UserWarning: Your problem has a complex pair of dominant roots and is diagnosed as stiff.  You should probably change to a code intended for stiff problems.\n",
      "  warn('Your problem has a complex pair of dominant roots '\n",
      "/home/alexandre_sureda/miniconda3/envs/neutronics/lib/python3.11/site-packages/extensisq/common.py:452: UserWarning: Your problem has a real dominant root and is diagnosed as stiff.  You should probably change to a code intended for stiff problems.\n",
      "  warn('Your problem has a real dominant root '\n"
     ]
    },
    {
     "name": "stdout",
     "output_type": "stream",
     "text": [
      "Pr7    3.2000e+01 1e-04  16745 (6746)  694368    41.5        0 56.1     0\n",
      "Pr7    3.2000e+01 1e-07  16960 (6961)  708470    41.8        0 69.1     0\n",
      "Pr9    1.6000e+01 1e-04  27101 (17102) 1249047    46.1        0 102.2     0\n",
      "Pr9    1.6000e+01 1e-07  27592 (17593) 1277130    46.3        0 127.2     0\n",
      "CK5    4.0000e+01 1e-04  12396 (2397)  433857    35.0        0 12.2     0\n",
      "CK5    4.0000e+01 1e-07  13074 (3075)  445777    34.1        0 13.1     0\n",
      "CFMR7osc 2.4000e+01 1e-04  14866 (4867)  540518    36.4        0 15.6     0\n",
      "CFMR7osc 2.4000e+01 1e-07  15645 (5646)  556514    35.6        0 16.0     0\n",
      "BS5    2.5064e+01 1e-04  49842 (39843)  683649    13.7        0 19.7     0\n",
      "BS5    2.4000e+01 1e-07  45795 (35796)  676593    14.8        0 19.4     0\n"
     ]
    }
   ],
   "source": [
    "from extensisq.sommeijer import maxm, NFS, nfesig\n",
    "from time import perf_counter\n",
    "\n",
    "# now solve for a range of tolerances:\n",
    "tols = np.logspace(-4, -7, 4)\n",
    "\n",
    "# Lista de métodos de integración para comparar\n",
    "methods = [\n",
    "    (\"BDF\", \"BDF\"), \n",
    "    (\"RK45\", \"RK45\"), \n",
    "    (\"Radau\", \"Radau\"), \n",
    "    (Pr7, \"Pr7\"), \n",
    "    (Pr9, \"Pr9\"), \n",
    "    (CK5, \"CK5\"), \n",
    "    (CFMR7osc, \"CFMR7osc\"), \n",
    "    (BS5, \"BS5\")\n",
    "]\n",
    "\n",
    "# Ahora resuelve para un rango de tolerancias:\n",
    "tols = np.logspace(-4, -7, 2)\n",
    "\n",
    "print('{:<6} {:<8} {:<5} {:<7} {:<7} {:<7} {:<8} {:<4} {:<5}'.format('Method', 'Error', 'Tol', 'Steps', 'f-evals', 'Average', 'f-sigma', 'CPU', 's-max'))\n",
    "for method, method_name in methods:\n",
    "    for tol in tols:\n",
    "        timer = perf_counter()\n",
    "        sim = nd.ScipyClusterDynamics(params, int(1e4), dt, number_clusters_start, MAX_NUMBER_MOLECULES)\n",
    "        sim.simulate(method=method, t_eval=None, rtol=tol, atol=tol)\n",
    "        cpu = perf_counter() - timer\n",
    "        err = np.abs(sim.cluster_array[:, -1] - y).max()\n",
    "        nfs = NFS[()]\n",
    "        nsteps = sim.time.size - 1 + nfs\n",
    "        nfev = sim.nfev\n",
    "        avg = nfev / nsteps\n",
    "        print(f'{method_name:<6} {err:.4e} {tol:.0e} {nsteps:>6} ({NFS[()]}) {nfev:>7} {avg:>7.1f} {nfesig:>8} {cpu:>4.1f} {maxm[()]:>5}')"
   ]
  },
  {
   "cell_type": "code",
   "execution_count": null,
   "metadata": {},
   "outputs": [],
   "source": []
  }
 ],
 "metadata": {
  "kernelspec": {
   "display_name": "neutronics",
   "language": "python",
   "name": "python3"
  },
  "language_info": {
   "codemirror_mode": {
    "name": "ipython",
    "version": 3
   },
   "file_extension": ".py",
   "mimetype": "text/x-python",
   "name": "python",
   "nbconvert_exporter": "python",
   "pygments_lexer": "ipython3",
   "version": "3.11.3"
  }
 },
 "nbformat": 4,
 "nbformat_minor": 2
}
